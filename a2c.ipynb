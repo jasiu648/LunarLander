{
 "cells": [
  {
   "cell_type": "markdown",
   "id": "20d52c71",
   "metadata": {},
   "source": [
    "# 0. Import Dependencies"
   ]
  },
  {
   "cell_type": "code",
   "execution_count": 104,
   "id": "f0169934",
   "metadata": {},
   "outputs": [],
   "source": [
    "import numpy as np\n",
    "import pandas as pd\n",
    "from collections import deque\n",
    "import matplotlib.pyplot as plt\n",
    "import torch\n",
    "import torch.nn as nn\n",
    "import torch.nn.functional as F\n",
    "import torch.optim as optim\n",
    "from torch.distributions import Categorical\n",
    "import gymnasium as gym"
   ]
  },
  {
   "cell_type": "markdown",
   "id": "20e89732",
   "metadata": {},
   "source": [
    "# 1. Define the Environment and the Model"
   ]
  },
  {
   "cell_type": "code",
   "execution_count": 105,
   "id": "525c8955",
   "metadata": {},
   "outputs": [],
   "source": [
    "device = torch.device(\"cuda:0\" if torch.cuda.is_available() else \"cpu\")"
   ]
  },
  {
   "cell_type": "code",
   "execution_count": 106,
   "id": "b0202243",
   "metadata": {},
   "outputs": [],
   "source": [
    "env_id = \"LunarLander-v3\"\n",
    "\n",
    "env = gym.make(env_id)\n",
    "\n",
    "s_size = env.observation_space.shape[0]\n",
    "a_size = env.action_space.n"
   ]
  },
  {
   "cell_type": "code",
   "execution_count": 107,
   "id": "da35f36d",
   "metadata": {},
   "outputs": [],
   "source": [
    "class PolicyNetwork(nn.Module):\n",
    "    \"\"\"\n",
    "    The Policy Network (Actor).\n",
    "    \"\"\"\n",
    "    def __init__(self, s_size, a_size, h_size):\n",
    "        '''\n",
    "        Initialise the policy network.\n",
    "        '''\n",
    "        super(PolicyNetwork, self).__init__()\n",
    "        self.layer1 = nn.Linear(s_size, h_size)\n",
    "        self.layer2 = nn.Linear(h_size, a_size)\n",
    "\n",
    "    def forward(self, state):\n",
    "        '''\n",
    "        Perform a forward pass through the network.\n",
    "        '''\n",
    "        hidden = F.relu(self.layer1(state))\n",
    "        action_probs = F.softmax(self.layer2(hidden), dim=1)\n",
    "        return action_probs\n",
    "\n",
    "    def act(self, state):\n",
    "        '''\n",
    "        Sample an action from the policy's distribution.\n",
    "        '''\n",
    "        probabilities = self.forward(state)\n",
    "        distribution = Categorical(probabilities)\n",
    "        action = distribution.sample()\n",
    "        return action.item(), distribution.log_prob(action)"
   ]
  },
  {
   "cell_type": "code",
   "execution_count": 108,
   "id": "108315a1",
   "metadata": {},
   "outputs": [],
   "source": [
    "class ValueNetwork(nn.Module):\n",
    "    '''\n",
    "    The Value Network (Critic).\n",
    "    '''\n",
    "\n",
    "    def __init__(self, s_size, h_size):\n",
    "        '''\n",
    "        Initialize the value network.\n",
    "        '''\n",
    "        super(ValueNetwork, self).__init__()\n",
    "\n",
    "        self.input_layer = nn.Linear(s_size, h_size)\n",
    "        self.output_layer = nn.Linear(h_size, 1)\n",
    "\n",
    "    def forward(self, state):\n",
    "        '''\n",
    "        Compute the state value.\n",
    "        '''\n",
    "        hidden = F.relu(self.input_layer(state))\n",
    "        state_value = self.output_layer(hidden)\n",
    "        return state_value"
   ]
  },
  {
   "cell_type": "code",
   "execution_count": 109,
   "id": "6e4b0d2b",
   "metadata": {},
   "outputs": [],
   "source": [
    "def generate_trajectory(policy, value_function, max_steps):\n",
    "    '''\n",
    "    Function used to generate a trajectory (sequence of states, actions, and rewards) using the current policy.\n",
    "    '''\n",
    "    log_probs = []\n",
    "    rewards = []\n",
    "    state_values = []\n",
    "    state, _ = env.reset()\n",
    "    \n",
    "    for step in range(max_steps):\n",
    "        state = torch.from_numpy(state).float().unsqueeze(0).to(device)\n",
    "        action, log_prob = policy.act(state)\n",
    "        value = value_function(state)\n",
    "        next_state, reward, done, truncated , _ = env.step(action)\n",
    "\n",
    "        rewards.append(reward)\n",
    "        log_probs.append(log_prob)\n",
    "        state_values.append(value)\n",
    "        state = next_state\n",
    "\n",
    "        if done:\n",
    "            break\n",
    "    return  log_probs, rewards, state_values"
   ]
  },
  {
   "cell_type": "code",
   "execution_count": 110,
   "id": "c54cf77d",
   "metadata": {},
   "outputs": [],
   "source": [
    "def calculate_discounted_returns(rewards, max_steps, gamma):\n",
    "    '''\n",
    "    Function used to calculate discounted cumulative rewards for a trajectory.\n",
    "    '''\n",
    "    returns = deque(maxlen=max_steps)\n",
    "    n_steps = len(rewards)\n",
    "    \n",
    "    for step in range(n_steps)[::-1]:\n",
    "        disc_return = (returns[0] if len(returns) > 0 else 0)\n",
    "        returns.appendleft(rewards[step] + gamma * disc_return)\n",
    "    return returns"
   ]
  },
  {
   "cell_type": "code",
   "execution_count": 111,
   "id": "b21268e5",
   "metadata": {},
   "outputs": [],
   "source": [
    "def standardise_returns(returns):\n",
    "    '''\n",
    "    Function used to standarise returns.\n",
    "    '''\n",
    "    eps = np.finfo(np.float32).eps.item()\n",
    "    returns = torch.tensor(returns, dtype=torch.float32).to(device)\n",
    "    returns = (returns - returns.mean()) / (returns.std() + eps)\n",
    "    return returns"
   ]
  },
  {
   "cell_type": "code",
   "execution_count": 112,
   "id": "43ae54ab",
   "metadata": {},
   "outputs": [],
   "source": [
    "def optimise_policy(policy_optimizer, log_probs, returns, state_values):\n",
    "    '''\n",
    "    Function used to optimise the policy.\n",
    "    '''\n",
    "    state_values = torch.stack(state_values).squeeze()\n",
    "    advantages = returns - state_values.detach()\n",
    "    advantages = torch.tensor(advantages).to(device)\n",
    "\n",
    "    policy_loss = []\n",
    "    for log_prob, advantage in zip(log_probs, advantages):\n",
    "        policy_loss.append(-log_prob * advantage)\n",
    "    policy_loss = torch.cat(policy_loss).sum()\n",
    "    \n",
    "    policy_optimizer.zero_grad()\n",
    "    policy_loss.backward()\n",
    "    policy_optimizer.step()"
   ]
  },
  {
   "cell_type": "code",
   "execution_count": 113,
   "id": "403506b1",
   "metadata": {},
   "outputs": [],
   "source": [
    "def optimise_value_function(value_optimizer, returns, state_values):\n",
    "    '''\n",
    "    Function used to optimise the value function network.\n",
    "    '''\n",
    "    state_values = torch.stack(state_values).squeeze()\n",
    "\n",
    "    value_loss = F.mse_loss(state_values, returns)\n",
    "\n",
    "    value_optimizer.zero_grad()\n",
    "    value_loss.backward()\n",
    "    value_optimizer.step()"
   ]
  },
  {
   "cell_type": "code",
   "execution_count": 114,
   "id": "1316a0d8",
   "metadata": {},
   "outputs": [],
   "source": [
    "def train_agent(policy, value_function, policy_optimizer, value_optimizer, num_episodes, max_steps, gamma,\n",
    "                log_interval, early_stopping_threshold=None):\n",
    "    \"\"\"\n",
    "    Function used to train an actor-critic agent.\n",
    "    \"\"\"\n",
    "    recent_scores = deque(maxlen=100)\n",
    "    scores = []\n",
    "\n",
    "    for i_episode in range(1, num_episodes + 1):\n",
    "        log_probs, rewards, state_values = generate_trajectory(policy, value_function, max_steps)\n",
    "        episode_score = sum(rewards)\n",
    "        recent_scores.append(episode_score)\n",
    "        scores.append(episode_score)\n",
    "\n",
    "        returns = calculate_discounted_returns(rewards, max_steps, gamma)\n",
    "        standardised_returns = standardise_returns(returns)\n",
    "\n",
    "        optimise_value_function(value_optimizer, standardised_returns, state_values)\n",
    "        optimise_policy(policy_optimizer, log_probs, standardised_returns, state_values)\n",
    "\n",
    "        if early_stopping_threshold is not None and len(recent_scores) == recent_scores.maxlen:\n",
    "            avg_score = np.mean(recent_scores)            \n",
    "            if avg_score >= early_stopping_threshold:\n",
    "                best_score = np.max(recent_scores)\n",
    "                worst_score = np.min(recent_scores)\n",
    "                print(f'Early stopping triggered at episode {i_episode}')\n",
    "                print(f'Episode {i_episode}\\tAverage Score: {avg_score:.2f}\\tBest Score: {best_score:.2f}' \n",
    "                  + f'\\tWorst Score: {worst_score:.2f}')\n",
    "                break\n",
    "\n",
    "        if i_episode % log_interval == 0:\n",
    "            avg_score = np.mean(recent_scores)\n",
    "            best_score = np.max(recent_scores)\n",
    "            worst_score = np.min(recent_scores)\n",
    "            print(f'Episode {i_episode}\\tAverage Score: {avg_score:.2f}\\tBest Score: {best_score:.2f}' \n",
    "                  + f'\\tWorst Score: {worst_score:.2f}')\n",
    "    return scores"
   ]
  },
  {
   "cell_type": "markdown",
   "id": "1724ff5e",
   "metadata": {},
   "source": [
    "# 2. Train the Model"
   ]
  },
  {
   "cell_type": "code",
   "execution_count": 134,
   "id": "631430b7",
   "metadata": {},
   "outputs": [],
   "source": [
    "LL_hyperparameters = {\n",
    "    \"h_size\": 256,  \n",
    "    \"n_training_episodes\": 10000, \n",
    "    \"n_evaluation_episodes\": 1000,\n",
    "    \"max_steps\": 1000,\n",
    "    \"gamma\": 0.99,\n",
    "    \"lr\": 1e-3,\n",
    "    \"state_space\": s_size,\n",
    "    \"action_space\": a_size,\n",
    "}"
   ]
  },
  {
   "cell_type": "code",
   "execution_count": 116,
   "id": "8ad93c10",
   "metadata": {},
   "outputs": [],
   "source": [
    "LL_policy = PolicyNetwork(LL_hyperparameters[\"state_space\"], LL_hyperparameters[\"action_space\"],\n",
    "                           LL_hyperparameters[\"h_size\"]).to(device)\n",
    "LL_policy_optimizer = optim.Adam(LL_policy.parameters(), lr=LL_hyperparameters[\"lr\"])"
   ]
  },
  {
   "cell_type": "code",
   "execution_count": 117,
   "id": "cc5b065b",
   "metadata": {},
   "outputs": [],
   "source": [
    "LL_value = ValueNetwork(LL_hyperparameters[\"state_space\"], LL_hyperparameters[\"h_size\"]).to(device)\n",
    "LL_value_optimizer = optim.Adam(LL_value.parameters(), lr=LL_hyperparameters[\"lr\"])"
   ]
  },
  {
   "cell_type": "code",
   "execution_count": null,
   "id": "809c368c",
   "metadata": {},
   "outputs": [],
   "source": [
    "scores = train_agent(LL_policy,\n",
    "                LL_value,\n",
    "                LL_policy_optimizer,\n",
    "                LL_value_optimizer,\n",
    "                LL_hyperparameters[\"n_training_episodes\"],\n",
    "                LL_hyperparameters[\"max_steps\"],\n",
    "                LL_hyperparameters[\"gamma\"],\n",
    "                100,\n",
    "                230)"
   ]
  },
  {
   "cell_type": "markdown",
   "id": "e28193bd",
   "metadata": {},
   "source": [
    "# 3. Evaluate the Model"
   ]
  },
  {
   "cell_type": "code",
   "execution_count": 50,
   "id": "f08ca46a",
   "metadata": {},
   "outputs": [],
   "source": [
    "scores= pd.Series(scores, name=\"policy_scores\")"
   ]
  },
  {
   "cell_type": "code",
   "execution_count": null,
   "id": "3a24dd86",
   "metadata": {},
   "outputs": [],
   "source": [
    "fig, ax = plt.subplots(figsize=(10, 6))\n",
    "\n",
    "scores.plot(ax=ax, label=\"Scores\", color='lightblue', linewidth=1.5)\n",
    "(scores.rolling(window=100)\n",
    "           .mean()\n",
    "           .rename(\"Average (last 100)\")\n",
    "           .plot(ax=ax, color='red', linewidth=2, linestyle='-'))\n",
    "\n",
    "ax.grid(color='gray', linestyle='--', linewidth=0.5, alpha=0.7)\n",
    "ax.set_title(\"Policy scores of the training process\", fontsize=16, fontweight='bold')\n",
    "ax.set_xlabel(\"Episode Number\", fontsize=14)\n",
    "ax.set_ylabel(\"Scores\", fontsize=14)\n",
    "\n",
    "ax.tick_params(axis='both', which='major', labelsize=12)\n",
    "ax.legend(fontsize=12, loc='lower right', frameon=True, shadow=True, fancybox=True)\n",
    "\n",
    "# del?\n",
    "\n",
    "\n",
    "ax.spines['top'].set_visible(False)\n",
    "ax.spines['right'].set_visible(False)\n",
    "plt.tight_layout()\n",
    "plt.show()"
   ]
  },
  {
   "cell_type": "code",
   "execution_count": 52,
   "id": "af4d713c",
   "metadata": {},
   "outputs": [],
   "source": [
    "scores.to_csv('a2c_scores4.csv', index=False)"
   ]
  },
  {
   "cell_type": "code",
   "execution_count": 53,
   "id": "973a4666",
   "metadata": {},
   "outputs": [],
   "source": [
    "def evaluate(policy, env, num_episodes, max_steps):\n",
    "    \"\"\"\n",
    "    Function to evaluate the performance of a policy.\n",
    "\n",
    "    \"\"\"\n",
    "    all_rewards = []\n",
    "    all_steps = []\n",
    "    \n",
    "    for i_episode in range(1, num_episodes + 1):\n",
    "        state, _ = env.reset()\n",
    "        episode_reward = 0\n",
    "        \n",
    "        for step in range(max_steps):\n",
    "            state = torch.from_numpy(state).float().unsqueeze(0).to(device)\n",
    "            action, _ = policy.act(state)\n",
    "            state, reward, done, _, _ = env.step(action)\n",
    "            episode_reward += reward\n",
    "            if done:\n",
    "                break\n",
    "                \n",
    "        all_rewards.append(episode_reward)\n",
    "        all_steps.append(step + 1)\n",
    "\n",
    "    avg_reward = np.mean(all_rewards)\n",
    "    avg_steps = np.mean(all_steps)\n",
    "    print(f\"Evaluation over {num_episodes} episodes:\")\n",
    "    print(f\"Average Reward: {avg_reward:.2f}\")\n",
    "    print(f\"Average Episode Length: {avg_steps:.2f}\")\n",
    "    return all_rewards, all_steps"
   ]
  },
  {
   "cell_type": "code",
   "execution_count": 100,
   "id": "77eff61f",
   "metadata": {},
   "outputs": [
    {
     "name": "stdout",
     "output_type": "stream",
     "text": [
      "Evaluation over 10 episodes:\n",
      "Average Reward: 156.46\n",
      "Average Episode Length: 1000.00\n"
     ]
    }
   ],
   "source": [
    "avg_reward, avg_steps = evaluate(LL_policy, env, LL_hyperparameters[\"n_evaluation_episodes\"],\n",
    "                                       LL_hyperparameters[\"max_steps\"])"
   ]
  },
  {
   "cell_type": "markdown",
   "id": "e8413137",
   "metadata": {},
   "source": [
    "# 4. Save the Model"
   ]
  },
  {
   "cell_type": "code",
   "execution_count": 55,
   "id": "43f6a225",
   "metadata": {},
   "outputs": [],
   "source": [
    "path = './a2c_model4'"
   ]
  },
  {
   "cell_type": "code",
   "execution_count": 56,
   "id": "eaf51dbc",
   "metadata": {},
   "outputs": [],
   "source": [
    "torch.save(LL_policy.state_dict(), path)"
   ]
  },
  {
   "cell_type": "markdown",
   "id": "0d954ac6",
   "metadata": {},
   "source": [
    "# 5. Load a Model"
   ]
  },
  {
   "cell_type": "code",
   "execution_count": 126,
   "id": "52da9164",
   "metadata": {},
   "outputs": [],
   "source": [
    "path_to_load = './a2c_model2'"
   ]
  },
  {
   "cell_type": "code",
   "execution_count": 102,
   "id": "9aa2bd84",
   "metadata": {},
   "outputs": [
    {
     "name": "stderr",
     "output_type": "stream",
     "text": [
      "C:\\Users\\Jakub\\AppData\\Local\\Temp\\ipykernel_25140\\891222363.py:3: FutureWarning: You are using `torch.load` with `weights_only=False` (the current default value), which uses the default pickle module implicitly. It is possible to construct malicious pickle data which will execute arbitrary code during unpickling (See https://github.com/pytorch/pytorch/blob/main/SECURITY.md#untrusted-models for more details). In a future release, the default value for `weights_only` will be flipped to `True`. This limits the functions that could be executed during unpickling. Arbitrary objects will no longer be allowed to be loaded via this mode unless they are explicitly allowlisted by the user via `torch.serialization.add_safe_globals`. We recommend you start setting `weights_only=True` for any use case where you don't have full control of the loaded file. Please open an issue on GitHub for any issues related to this experimental feature.\n",
      "  model.load_state_dict(torch.load(path_to_load))\n"
     ]
    },
    {
     "data": {
      "text/plain": [
       "<All keys matched successfully>"
      ]
     },
     "execution_count": 102,
     "metadata": {},
     "output_type": "execute_result"
    }
   ],
   "source": [
    "model = PolicyNetwork(LL_hyperparameters[\"state_space\"], LL_hyperparameters[\"action_space\"],\n",
    "                           LL_hyperparameters[\"h_size\"]).to(device)\n",
    "model.load_state_dict(torch.load(path_to_load))"
   ]
  },
  {
   "cell_type": "code",
   "execution_count": 143,
   "id": "0cc1000c",
   "metadata": {},
   "outputs": [
    {
     "name": "stdout",
     "output_type": "stream",
     "text": [
      "Evaluation over 1000 episodes:\n",
      "Average Reward: 239.85\n",
      "Average Episode Length: 340.09\n"
     ]
    }
   ],
   "source": [
    "rewards, steps = evaluate(model, env, LL_hyperparameters[\"n_evaluation_episodes\"],\n",
    "                                       LL_hyperparameters[\"max_steps\"])"
   ]
  },
  {
   "cell_type": "code",
   "execution_count": 142,
   "id": "fb8cc004",
   "metadata": {},
   "outputs": [],
   "source": [
    "pd.DataFrame({\n",
    "       'episode': range(1, len(rewards)+1),\n",
    "       'reward': rewards,\n",
    "       'steps': steps\n",
    "   }).to_csv('test_scores_a2c.csv', index=False)"
   ]
  }
 ],
 "metadata": {
  "kernelspec": {
   "display_name": "Python 3",
   "language": "python",
   "name": "python3"
  },
  "language_info": {
   "codemirror_mode": {
    "name": "ipython",
    "version": 3
   },
   "file_extension": ".py",
   "mimetype": "text/x-python",
   "name": "python",
   "nbconvert_exporter": "python",
   "pygments_lexer": "ipython3",
   "version": "3.11.0"
  }
 },
 "nbformat": 4,
 "nbformat_minor": 5
}
